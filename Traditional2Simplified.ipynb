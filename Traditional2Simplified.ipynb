{
 "cells": [
  {
   "cell_type": "code",
   "execution_count": 4,
   "id": "f4ebddf4",
   "metadata": {},
   "outputs": [
    {
     "name": "stdout",
     "output_type": "stream",
     "text": [
      "繁体中文转换为简体中文\n"
     ]
    }
   ],
   "source": [
    "from opencc import OpenCC\n",
    "\n",
    "cc = OpenCC('t2s')  # 繁体到简体\n",
    "text_traditional = \"繁體中文轉換為簡體中文\"\n",
    "text_simplified = cc.convert(text_traditional)\n",
    "print(text_simplified)  # 输出：繁体中文转换为简体中文"
   ]
  },
  {
   "cell_type": "code",
   "execution_count": 5,
   "id": "826986c5",
   "metadata": {},
   "outputs": [],
   "source": [
    "#按段读取txt文件到列表\n",
    "data = []\n",
    "with open('./data.txt', 'r', encoding='utf-8') as file:\n",
    "    for line in file:\n",
    "        line = cc.convert(line.strip())\n",
    "        if line:  # 确保行不为空\n",
    "            data.append(line)\n",
    "\n",
    "with open('./data_simplified.txt', 'w', encoding='utf-8') as file:\n",
    "    for line in data:\n",
    "        file.write(line + '\\n')\n"
   ]
  },
  {
   "cell_type": "code",
   "execution_count": null,
   "id": "617d47cc",
   "metadata": {},
   "outputs": [],
   "source": []
  }
 ],
 "metadata": {
  "kernelspec": {
   "display_name": ".venv",
   "language": "python",
   "name": "python3"
  },
  "language_info": {
   "codemirror_mode": {
    "name": "ipython",
    "version": 3
   },
   "file_extension": ".py",
   "mimetype": "text/x-python",
   "name": "python",
   "nbconvert_exporter": "python",
   "pygments_lexer": "ipython3",
   "version": "3.11.9"
  }
 },
 "nbformat": 4,
 "nbformat_minor": 5
}
